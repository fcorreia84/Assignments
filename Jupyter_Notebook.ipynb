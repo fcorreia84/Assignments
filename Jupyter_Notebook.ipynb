{
 "cells": [
  {
   "cell_type": "markdown",
   "metadata": {},
   "source": [
    "<center>\n",
    "    <img src=\"https://s3-api.us-geo.objectstorage.softlayer.net/cf-courses-data/CognitiveClass/Logos/organization_logo/organization_logo.png\" width=\"300\" alt=\"cognitiveclass.ai logo\"  />\n",
    "</center>\n"
   ]
  },
  {
   "cell_type": "markdown",
   "metadata": {
    "tags": []
   },
   "source": [
    "#### Add your code below following the instructions given in the course\n"
   ]
  },
  {
   "cell_type": "markdown",
   "metadata": {},
   "source": [
    "## My Jupyter Notebook on IBM Watson Studio"
   ]
  },
  {
   "cell_type": "markdown",
   "metadata": {},
   "source": [
    "__Francisco Correia__<br>\n",
    "Currently a Senior Estimator looking for a Data Science position."
   ]
  },
  {
   "cell_type": "markdown",
   "metadata": {},
   "source": [
    "_I am interested in data science since the construction industry is well known to be one of the less digitized industries in the world. Being in this industry for almost 15 years now, I would like to be able to contribute to changing this fact and bring more data decision making to the industry._"
   ]
  },
  {
   "cell_type": "markdown",
   "metadata": {},
   "source": [
    "#### This code should return the result of the sum \"1+1\""
   ]
  },
  {
   "cell_type": "code",
   "execution_count": 3,
   "metadata": {},
   "outputs": [
    {
     "data": {
      "text/plain": [
       "2"
      ]
     },
     "execution_count": 3,
     "metadata": {},
     "output_type": "execute_result"
    }
   ],
   "source": [
    "1+1"
   ]
  },
  {
   "cell_type": "markdown",
   "metadata": {},
   "source": [
    "***\n",
    "* Bullet point 1\n",
    "* Bullet point 2\n",
    "***\n",
    "1. Numbered point 1\n",
    "2. Numbered point 2\n",
    "***\n",
    "|Heading 1|Heading 2|\n",
    "|---|---|\n",
    "|item 1.1|item 1.2|\n",
    "|item 2.1|item 2.2|\n",
    "***\n",
    "[click me](http://google.co.uk)\n",
    "***\n",
    "![Dog](https://unionlakepetservices.com/wp-content/uploads/2019/05/ULPS-Ears-AdobeStock_207410873.jpg)\n",
    "***\n",
    "__Code highlighting__<br>\n",
    "<code> Python\n",
    "    A=1+1\n",
    "    print(\"A=\",A)\n",
    "</code>\n",
    "__Syntax highlighting__<br>\n",
    "``` Python\n",
    "    A=1+1\n",
    "    print(\"A=\",A)\n",
    "```\n",
    "***\n",
    ">This is a blocked quote.<br>\n",
    "***\n",
    "~This is a strikethrough text~"
   ]
  },
  {
   "cell_type": "code",
   "execution_count": null,
   "metadata": {},
   "outputs": [],
   "source": []
  }
 ],
 "metadata": {
  "kernelspec": {
   "display_name": "Python",
   "language": "python",
   "name": "conda-env-python-py"
  },
  "language_info": {
   "codemirror_mode": {
    "name": "ipython",
    "version": 3
   },
   "file_extension": ".py",
   "mimetype": "text/x-python",
   "name": "python",
   "nbconvert_exporter": "python",
   "pygments_lexer": "ipython3",
   "version": "3.7.12"
  }
 },
 "nbformat": 4,
 "nbformat_minor": 4
}
